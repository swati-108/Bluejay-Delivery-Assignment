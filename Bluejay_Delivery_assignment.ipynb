{
  "nbformat": 4,
  "nbformat_minor": 0,
  "metadata": {
    "colab": {
      "provenance": [],
      "authorship_tag": "ABX9TyPMAW7GupSWuwlslvpoCBUy",
      "include_colab_link": true
    },
    "kernelspec": {
      "name": "python3",
      "display_name": "Python 3"
    },
    "language_info": {
      "name": "python"
    }
  },
  "cells": [
    {
      "cell_type": "markdown",
      "metadata": {
        "id": "view-in-github",
        "colab_type": "text"
      },
      "source": [
        "<a href=\"https://colab.research.google.com/github/swati-108/Bluejay-Delivery-Assignment/blob/main/Bluejay_Delivery_assignment.ipynb\" target=\"_parent\"><img src=\"https://colab.research.google.com/assets/colab-badge.svg\" alt=\"Open In Colab\"/></a>"
      ]
    },
    {
      "cell_type": "code",
      "execution_count": 36,
      "metadata": {
        "colab": {
          "base_uri": "https://localhost:8080/"
        },
        "id": "dK9o0l0jfafw",
        "outputId": "d5b35c0a-dd10-43ca-f90d-4a81450bb85e"
      },
      "outputs": [
        {
          "output_type": "stream",
          "name": "stdout",
          "text": [
            "     Position ID Position Status                Time            Time Out  \\\n",
            "0      WFS000054          Active                 NaT                 NaT   \n",
            "1      WFS000065          Active 2023-09-12 10:08:00 2023-09-12 13:53:00   \n",
            "2      WFS000065          Active 2023-09-12 14:23:00 2023-09-12 19:02:00   \n",
            "3      WFS000065          Active 2023-09-13 10:08:00 2023-09-13 14:20:00   \n",
            "4      WFS000065          Active 2023-09-13 14:50:00 2023-09-13 20:44:00   \n",
            "...          ...             ...                 ...                 ...   \n",
            "1479   WFS000589          Active 2023-09-20 09:55:00 2023-09-20 14:30:00   \n",
            "1480   WFS000589          Active 2023-09-20 15:00:00 2023-09-20 19:29:41   \n",
            "1481   WFS000589          Active 2023-09-21 09:56:00 2023-09-21 14:30:00   \n",
            "1482   WFS000589          Active 2023-09-21 15:00:01 2023-09-21 19:16:05   \n",
            "1483   WFS000591          Active                 NaT                 NaT   \n",
            "\n",
            "     Timecard Hours (as Time) Pay Cycle Start Date Pay Cycle End Date  \\\n",
            "0                         NaN                  NaT                NaT   \n",
            "1                        3:45           2023-09-10         2023-09-23   \n",
            "2                        4:39           2023-09-10         2023-09-23   \n",
            "3                        4:12           2023-09-10         2023-09-23   \n",
            "4                        5:54           2023-09-10         2023-09-23   \n",
            "...                       ...                  ...                ...   \n",
            "1479                     4:35           2023-09-10         2023-09-23   \n",
            "1480                     4:29           2023-09-10         2023-09-23   \n",
            "1481                     4:34           2023-09-10         2023-09-23   \n",
            "1482                     4:16           2023-09-10         2023-09-23   \n",
            "1483                      NaN                  NaT                NaT   \n",
            "\n",
            "                    Employee Name  File Number  Unnamed: 9 Unnamed: 10  \n",
            "0                 SiWgh, PraGhjEM           54         NaN         NaN  \n",
            "1                 REsaXiaWE, XAis           65         NaN         NaN  \n",
            "2                 REsaXiaWE, XAis           65         NaN         NaN  \n",
            "3                 REsaXiaWE, XAis           65         NaN         NaN  \n",
            "4                 REsaXiaWE, XAis           65         NaN         NaN  \n",
            "...                           ...          ...         ...         ...  \n",
            "1479              WgAyeW, RayCEWd          589         NaN         NaN  \n",
            "1480              WgAyeW, RayCEWd          589         NaN         NaN  \n",
            "1481              WgAyeW, RayCEWd          589         NaN         NaN  \n",
            "1482              WgAyeW, RayCEWd          589         NaN         NaN  \n",
            "1483  ArveXE RECerE, AWdres JesAs          591         NaN         NaN  \n",
            "\n",
            "[1484 rows x 11 columns]\n"
          ]
        }
      ],
      "source": [
        "import pandas as pd\n",
        "df = pd.read_excel(r\"/content/Assignment_Timecard.xlsx\")\n",
        "print(df)\n"
      ]
    },
    {
      "cell_type": "code",
      "source": [
        "import pandas as pd\n",
        "df.info()\n",
        "df.columns"
      ],
      "metadata": {
        "colab": {
          "base_uri": "https://localhost:8080/"
        },
        "id": "Fdz7LcMkjCPI",
        "outputId": "0e4c8f54-e2ff-47c7-876d-ff3cc2b1d2cc"
      },
      "execution_count": 37,
      "outputs": [
        {
          "output_type": "stream",
          "name": "stdout",
          "text": [
            "<class 'pandas.core.frame.DataFrame'>\n",
            "RangeIndex: 1484 entries, 0 to 1483\n",
            "Data columns (total 11 columns):\n",
            " #   Column                    Non-Null Count  Dtype         \n",
            "---  ------                    --------------  -----         \n",
            " 0   Position ID               1484 non-null   object        \n",
            " 1   Position Status           1484 non-null   object        \n",
            " 2   Time                      1474 non-null   datetime64[ns]\n",
            " 3   Time Out                  1470 non-null   datetime64[ns]\n",
            " 4   Timecard Hours (as Time)  1474 non-null   object        \n",
            " 5   Pay Cycle Start Date      1474 non-null   datetime64[ns]\n",
            " 6   Pay Cycle End Date        1474 non-null   datetime64[ns]\n",
            " 7   Employee Name             1484 non-null   object        \n",
            " 8   File Number               1484 non-null   int64         \n",
            " 9   Unnamed: 9                0 non-null      float64       \n",
            " 10  Unnamed: 10               1 non-null      object        \n",
            "dtypes: datetime64[ns](4), float64(1), int64(1), object(5)\n",
            "memory usage: 127.7+ KB\n"
          ]
        },
        {
          "output_type": "execute_result",
          "data": {
            "text/plain": [
              "Index(['Position ID', 'Position Status', 'Time', 'Time Out',\n",
              "       'Timecard Hours (as Time)', 'Pay Cycle Start Date',\n",
              "       'Pay Cycle End Date', 'Employee Name', 'File Number', 'Unnamed: 9',\n",
              "       'Unnamed: 10'],\n",
              "      dtype='object')"
            ]
          },
          "metadata": {},
          "execution_count": 37
        }
      ]
    },
    {
      "cell_type": "code",
      "source": [
        "df.rename(columns={\"Date_\":\"Date\"}, inplace=True)"
      ],
      "metadata": {
        "id": "WtLJm77kj7Nw"
      },
      "execution_count": 18,
      "outputs": []
    },
    {
      "cell_type": "code",
      "source": [
        "df = globals()[\"df\"]"
      ],
      "metadata": {
        "id": "2CJiO1DxkXkA"
      },
      "execution_count": 20,
      "outputs": []
    },
    {
      "cell_type": "code",
      "source": [
        "df = pd.DataFrame()\n"
      ],
      "metadata": {
        "id": "PZNCAfeen4w0"
      },
      "execution_count": 41,
      "outputs": []
    },
    {
      "cell_type": "code",
      "source": [
        "\n",
        "df.info()\n"
      ],
      "metadata": {
        "colab": {
          "base_uri": "https://localhost:8080/"
        },
        "id": "mq3Sgpqboo7L",
        "outputId": "8082a26e-da3a-41c0-f5e6-c27bcdff06a3"
      },
      "execution_count": 43,
      "outputs": [
        {
          "output_type": "stream",
          "name": "stdout",
          "text": [
            "<class 'pandas.core.frame.DataFrame'>\n",
            "Index: 0 entries\n",
            "Empty DataFrame\n"
          ]
        }
      ]
    },
    {
      "cell_type": "code",
      "source": [
        "df[\"Pay Cycle Start Date\"] = pd.to_datetime(df[\"Pay Cycle Start Date\"])"
      ],
      "metadata": {
        "id": "O5SYkYcntHi7"
      },
      "execution_count": 56,
      "outputs": []
    },
    {
      "cell_type": "code",
      "source": [
        "df[\"Time\"].dtype\n",
        "df[\"Pay Cycle Start Date\"] = pd.to_datetime(df[\"Pay Cycle Start Date\"])\n",
        "df[\"Pay Cycle End Date\"] = pd.to_datetime(df[\"Pay Cycle End Date\"])"
      ],
      "metadata": {
        "id": "i4_1sS7Ms9cj"
      },
      "execution_count": 57,
      "outputs": []
    },
    {
      "cell_type": "code",
      "source": [
        "df.fillna(\"N/A\", inplace=True)  # replacing the n/a values"
      ],
      "metadata": {
        "id": "atQn-4mKpP0g"
      },
      "execution_count": 58,
      "outputs": []
    },
    {
      "cell_type": "code",
      "source": [
        "# Function to track consecutive days worked\n",
        "import pandas as pd\n",
        "df = pd.read_excel(r\"/content/Assignment_Timecard.xlsx\")\n",
        "\n",
        "df[\"Pay Cycle Start Date\"].dtype\n",
        "df[\"Time\"] = pd.to_datetime(df[\"Time\"])\n",
        "df[\"Time Out\"] = pd.to_datetime(df[\"Time Out\"])\n",
        "\n",
        "\n",
        "\n",
        "def track_consecutive_days(employee_data):\n",
        "    consecutive_days = 0\n",
        "    last_date = None\n",
        "    for index, row in employee_data.iterrows():\n",
        "        date = row[\"Pay Cycle Start Date\"]\n",
        "        if last_date and date == pd.to_datetime(last_date) + pd.Timedelta(days=1):\n",
        "            consecutive_days += 1\n",
        "            if consecutive_days == 7:\n",
        "                yield row[\"Employee Name\"], row[\"Position ID\"], index\n",
        "        else:\n",
        "            consecutive_days = 1\n",
        "        last_date = date\n",
        "\n",
        "# Function to identify shifts with short spacing\n",
        "def identify_short_spacing(employee_data):\n",
        "    for index in range(len(employee_data) - 1):\n",
        "        row1 = employee_data.iloc[index]\n",
        "        row2 = employee_data.iloc[index + 1]\n",
        "        if (row1[\"Employee Name\"] == row2[\"Employee Name\"]) and (\n",
        "            row2[\"Time\"] - row1[\"Time Out\"] < pd.Timedelta(hours=10)\n",
        "            and row2[\"Time\"] - row1[\"Time Out\"] > pd.Timedelta(hours=1)\n",
        "        ):\n",
        "            yield row1[\"Employee Name\"], row2[\"Position ID\"], index\n",
        "\n",
        "# Function to identify shifts exceeding 14 hours\n",
        "def identify_long_shifts(employee_data):\n",
        "    for index, row in employee_data.iterrows():\n",
        "        shift_duration = row[\"Time Out\"] - row[\"Time\"]\n",
        "        if shift_duration > pd.Timedelta(hours=14):\n",
        "            yield row[\"Employee Name\"], row[\"Position ID\"], index\n",
        "\n",
        "# Print results\n",
        "print(\"Employees who have worked 7 consecutive days:\")\n",
        "for name, position, index in track_consecutive_days(df.copy()):\n",
        "    print(f\"- {name} ({position})\")\n",
        "\n",
        "print(\"\\nEmployees with less than 10 hours between shifts:\")\n",
        "for name, position, index in identify_short_spacing(df.copy()):\n",
        "    print(f\"- {name} ({position})\")\n",
        "\n",
        "print(\"\\nEmployees who have worked more than 14 hours in a single shift:\")\n",
        "for name, position, index in identify_long_shifts(df.copy()):\n",
        "    print(f\"- {name} ({position})\")\n"
      ],
      "metadata": {
        "colab": {
          "base_uri": "https://localhost:8080/"
        },
        "id": "zczgT_Puf2Af",
        "outputId": "383aab30-892b-4b9c-f705-e41f16b8bb7d"
      },
      "execution_count": 60,
      "outputs": [
        {
          "output_type": "stream",
          "name": "stdout",
          "text": [
            "Employees who have worked 7 consecutive days:\n",
            "\n",
            "Employees with less than 10 hours between shifts:\n",
            "- CaMaXaWE, CeghaW (WFS000153)\n",
            "- CaMaXaWE, CeghaW (WFS000153)\n",
            "- Xee, XaCar (WFS000200)\n",
            "- Xee, XaCar (WFS000200)\n",
            "- Xee, XaCar (WFS000200)\n",
            "- De Xa Cerda, IgWaciE (WFS000318)\n",
            "- MraW, WiXXiaC Ha (WFS000345)\n",
            "- MraW, WiXXiaC Ha (WFS000345)\n",
            "- CEreira Jr, JEse (WFS000456)\n",
            "- GrACfieXd, CErWeXiAs (WFS000515)\n",
            "- DeXgadiXXE REdarMe, ChrisMiaW S (WFS000523)\n",
            "- HaCiXMEW, DeaWMe DevEW (WFS000536)\n",
            "- REdrigAez, GraWdEW AWgeX (WFS000550)\n",
            "\n",
            "Employees who have worked more than 14 hours in a single shift:\n",
            "- DeXgadiXXE REdarMe, ChrisMiaW S (WFS000523)\n"
          ]
        }
      ]
    }
  ]
}